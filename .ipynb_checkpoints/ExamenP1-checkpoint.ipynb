{
 "cells": [
  {
   "cell_type": "code",
   "execution_count": 12,
   "id": "0827402f-9e0d-418c-b05e-f0a74f9aab82",
   "metadata": {},
   "outputs": [
    {
     "name": "stdin",
     "output_type": "stream",
     "text": [
      "Ingrese el nombre del estudiante (FIN para terminar):  Felix Rueda\n",
      "Ingrese las notas separadas por coma:  3,8,6,2\n"
     ]
    },
    {
     "name": "stdout",
     "output_type": "stream",
     "text": [
      "Felix Rueda - Promedio: 4.75 - Clasificación: Reprobado\n"
     ]
    },
    {
     "name": "stdin",
     "output_type": "stream",
     "text": [
      "Ingrese el nombre del estudiante (FIN para terminar):  Felix Rueda\n",
      "Ingrese las notas separadas por coma:  7,8,9,6\n"
     ]
    },
    {
     "name": "stdout",
     "output_type": "stream",
     "text": [
      "Felix Rueda - Promedio: 7.50 - Clasificación: Aprobado\n"
     ]
    },
    {
     "name": "stdin",
     "output_type": "stream",
     "text": [
      "Ingrese el nombre del estudiante (FIN para terminar):  Felix Rueda\n",
      "Ingrese las notas separadas por coma:  10,10,9,8,9\n"
     ]
    },
    {
     "name": "stdout",
     "output_type": "stream",
     "text": [
      "Felix Rueda - Promedio: 9.20 - Clasificación: Excelente\n"
     ]
    },
    {
     "name": "stdin",
     "output_type": "stream",
     "text": [
      "Ingrese el nombre del estudiante (FIN para terminar):  Felix Rueda\n",
      "Ingrese las notas separadas por coma:  UNO\n"
     ]
    },
    {
     "name": "stdout",
     "output_type": "stream",
     "text": [
      "Nota inválida. Estudiante omitido.\n"
     ]
    },
    {
     "name": "stdin",
     "output_type": "stream",
     "text": [
      "Ingrese el nombre del estudiante (FIN para terminar):  FIN\n"
     ]
    },
    {
     "name": "stdout",
     "output_type": "stream",
     "text": [
      "\n",
      "Resumen:\n",
      "Estudiantes excelentes: 1\n",
      "Estudiantes aprobados: 1\n",
      "Estudiantes reprobados: 1\n",
      "Mejor estudiante: Felix Rueda con promedio 9.20\n",
      "Felix Rueda - 9.20\n",
      "Felix Rueda - 7.50\n",
      "Felix Rueda - 4.75\n"
     ]
    }
   ],
   "source": [
    "estudiantes = []\n",
    "clasificaciones = {\"Excelente\": 0, \"Aprobado\": 0, \"Reprobado\": 0}\n",
    "mejor_estudiante = \"\"\n",
    "mejor_promedio = -1\n",
    "\n",
    "while True:\n",
    "    nombre = input(\"Ingrese el nombre del estudiante (FIN para terminar): \")\n",
    "    if nombre == \"FIN\":\n",
    "        break\n",
    "\n",
    "    notas_input = input(\"Ingrese las notas separadas por coma: \").split(\",\")\n",
    "    notas = []\n",
    "    error = False\n",
    "\n",
    "    for nota_str in notas_input:\n",
    "        try:\n",
    "            nota = float(nota_str.strip())\n",
    "            if 0 <= nota <= 10:\n",
    "                notas.append(nota)\n",
    "            else:\n",
    "                print(\"Nota fuera de rango. Estudiante omitido.\")\n",
    "                error = True\n",
    "                break\n",
    "        except:\n",
    "            print(\"Nota inválida. Estudiante omitido.\")\n",
    "            error = True\n",
    "            break\n",
    "\n",
    "    if error or not notas:\n",
    "        continue\n",
    "\n",
    "    promedio = sum(notas) / len(notas)\n",
    "\n",
    "    if promedio >= 9:\n",
    "        clasificacion = \"Excelente\"\n",
    "        clasificaciones[\"Excelente\"] += 1\n",
    "    elif promedio >= 6:\n",
    "        clasificacion = \"Aprobado\"\n",
    "        clasificaciones[\"Aprobado\"] += 1\n",
    "    else:\n",
    "        clasificacion = \"Reprobado\"\n",
    "        clasificaciones[\"Reprobado\"] += 1\n",
    "\n",
    "    print(f\"{nombre} - Promedio: {promedio:.2f} - Clasificación: {clasificacion}\")\n",
    "\n",
    "    estudiantes.append({\"nombre\": nombre, \"promedio\": promedio})\n",
    "\n",
    "    if promedio > mejor_promedio:\n",
    "        mejor_promedio = promedio\n",
    "        mejor_estudiante = nombre\n",
    "\n",
    "print(\"\\nResumen:\")\n",
    "print(f\"Estudiantes excelentes: {clasificaciones['Excelente']}\")\n",
    "print(f\"Estudiantes aprobados: {clasificaciones['Aprobado']}\")\n",
    "print(f\"Estudiantes reprobados: {clasificaciones['Reprobado']}\")\n",
    "print(f\"Mejor estudiante: {mejor_estudiante} con promedio {mejor_promedio:.2f}\")\n",
    "\n",
    "ordenados = [e for e in sorted(estudiantes, key=lambda x: x[\"promedio\"], reverse=True)]\n",
    "for e in ordenados:\n",
    "    print(f\"{e['nombre']} - {e['promedio']:.2f}\")\n"
   ]
  },
  {
   "cell_type": "code",
   "execution_count": null,
   "id": "9173ff95-e9a3-4d09-b1b1-5b8a7bc7f6c0",
   "metadata": {},
   "outputs": [],
   "source": [
    "while True:\n",
    "    nombre = input (\"Ingrese el nombre del estudiante (o 'FIN' para terminar):\")\n",
    "    if nombre == \"FIN\":\n",
    "        break\n",
    "\n",
    "    notas_est = input(\"ingrese las notas separadas por comas: \")\n",
    "    notas_list = notas_est.split(\",\")\n",
    "\n",
    "    notas = []\n",
    "    "
   ]
  }
 ],
 "metadata": {
  "kernelspec": {
   "display_name": "Python [conda env:MaquineLearning] *",
   "language": "python",
   "name": "conda-env-MaquineLearning-py"
  },
  "language_info": {
   "codemirror_mode": {
    "name": "ipython",
    "version": 3
   },
   "file_extension": ".py",
   "mimetype": "text/x-python",
   "name": "python",
   "nbconvert_exporter": "python",
   "pygments_lexer": "ipython3",
   "version": "3.13.5"
  }
 },
 "nbformat": 4,
 "nbformat_minor": 5
}
