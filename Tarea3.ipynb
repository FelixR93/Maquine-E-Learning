{
 "cells": [
  {
   "cell_type": "markdown",
   "id": "4460bdaf-6609-4083-a145-8b5c5cd486c2",
   "metadata": {},
   "source": [
    "<img src=\"img/Logo.png\" width=\"100\"/>\n",
    "\n",
    "![logo](img/Recurso-6.png)\n",
    "\n",
    "### ***Cargo:*** Docente Especialista\n",
    "### ***Nombre:*** Ing. Elvis Pachacama\n",
    "### ***Asignatura:*** Machine E-Learning\n",
    "### ***Carrera:*** Desarrollo de Software &nbsp;&nbsp;&nbsp;&nbsp;&nbsp;&nbsp;&nbsp; ***Nivel:*** Cuarto Nivel\n",
    "### ***Estudiante:*** Rueda Gaona Félix <br>\n",
    "\n",
    "# Segundo Parcial Tarea 1 - Ejercicios <br>\n"
   ]
  },
  {
   "cell_type": "markdown",
   "id": "e16f6b10-4c99-4ecb-a3e5-7eed83798fee",
   "metadata": {},
   "source": [
    "1. Escribe una función que reciba como entrada una *lista* con números y devuelva como resultado una *lista* con los cuadrados de los números contenidos en la lista de entrada.\n"
   ]
  },
  {
   "cell_type": "code",
   "execution_count": 4,
   "id": "b4a5eba6-2e30-4069-9573-2006ba90ee28",
   "metadata": {},
   "outputs": [
    {
     "name": "stdout",
     "output_type": "stream",
     "text": [
      "[1, 4, 9, 36, 64, 144]\n"
     ]
    }
   ],
   "source": [
    "def cuadrados(lista):\n",
    "    return [x**2 for x in lista]\n",
    "print(cuadrados([1, 2, 3, 6, 8, 12]))"
   ]
  },
  {
   "cell_type": "markdown",
   "id": "aaa785cf-0926-4ea6-b713-ee76478ebdf9",
   "metadata": {},
   "source": [
    "2. Escribe una función que reciba números como entrada y devuelva la suma de los mismos. La función debe ser capaz de recibir una cantidad indeterminada de números. La función no debe recibir directamente ningún objeto complejo (lista, conjunto, etc.)."
   ]
  },
  {
   "cell_type": "code",
   "execution_count": 5,
   "id": "e3f9f997-73c8-4d8f-a752-b89144b67b82",
   "metadata": {},
   "outputs": [
    {
     "name": "stdout",
     "output_type": "stream",
     "text": [
      "10\n"
     ]
    }
   ],
   "source": [
    "def suma(*args):\n",
    "    return sum(args)\n",
    "print(suma(1, 2, 3, 4))"
   ]
  },
  {
   "cell_type": "markdown",
   "id": "4a08feae-b67b-490d-9c52-f1f0bba7c56b",
   "metadata": {},
   "source": [
    "3. Escribe una función que reciba un string como entrada y devuelva el string al revés. Ejemplo: si el string de entrada es 'hola', el resultado será 'aloh'.\n"
   ]
  },
  {
   "cell_type": "code",
   "execution_count": 6,
   "id": "6f15132b-8f9e-4dac-8247-53f660c9bfc5",
   "metadata": {},
   "outputs": [
    {
     "name": "stdout",
     "output_type": "stream",
     "text": [
      "aloh\n"
     ]
    }
   ],
   "source": [
    "def invertir_string(s):\n",
    "    return s[::-1]\n",
    "print(invertir_string(\"hola\"))"
   ]
  },
  {
   "cell_type": "markdown",
   "id": "68f5dfc6-39a8-49d1-9f49-b661d346855d",
   "metadata": {},
   "source": [
    "4. Escribe una función *lambda* que, al igual que la función desarrollada en el ejercicio anterior, invierta el string recibido como parámetro. Ejemplo: si el string de entrada es 'hola', el resultado será 'aloh'.\n"
   ]
  },
  {
   "cell_type": "code",
   "execution_count": 14,
   "id": "97fd1729-63a5-43d9-8ecf-ca80a4230ebd",
   "metadata": {},
   "outputs": [
    {
     "name": "stdout",
     "output_type": "stream",
     "text": [
      "aloh\n"
     ]
    }
   ],
   "source": [
    "invertir_lambda = lambda s: s[::-1]\n",
    "print(invertir_lambda(\"hola\"))"
   ]
  },
  {
   "cell_type": "markdown",
   "id": "243f7b4b-145e-4c1e-80ba-91df49812a0a",
   "metadata": {},
   "source": [
    "5. Escribe una función que compruebe si un número se encuentra dentro de un rango específico.\n"
   ]
  },
  {
   "cell_type": "code",
   "execution_count": 8,
   "id": "e6d13861-96e2-4449-88f9-e903551e51b5",
   "metadata": {},
   "outputs": [
    {
     "name": "stdout",
     "output_type": "stream",
     "text": [
      "True\n",
      "False\n"
     ]
    }
   ],
   "source": [
    "def en_rango(num, minimo, maximo):\n",
    "    return minimo <= num <= maximo\n",
    "\n",
    "print(en_rango(5, 1, 10))\n",
    "print(en_rango(0, 1, 10))"
   ]
  },
  {
   "cell_type": "markdown",
   "id": "d79e2163-12c1-4d6c-b9c9-1bdb5263616c",
   "metadata": {},
   "source": [
    "6. Escribe una función que reciba un número entero positivo como parámetro y devuelva una lista que contenga los 5 primeros múltiplos de dicho número. Por ejemplo, si la función recibe el número 3, devolverá la lista [3, 6, 9, 12, 15]. Si la función recibe un parámetro incorrecto (por ejemplo, un múmero menor o igual a cero), mostrará un mensaje de error por pantalla y devolverá una lista vacía.\n"
   ]
  },
  {
   "cell_type": "code",
   "execution_count": 9,
   "id": "85ee6a75-c3da-4dcd-b629-0f18da979b4e",
   "metadata": {},
   "outputs": [
    {
     "name": "stdout",
     "output_type": "stream",
     "text": [
      "[3, 6, 9, 12, 15]\n",
      "Error: número debe ser positivo.\n",
      "[]\n"
     ]
    }
   ],
   "source": [
    "def multiplos(n):\n",
    "    if n > 0:\n",
    "        return [n*i for i in range(1, 6)]\n",
    "    else:\n",
    "        print(\"Error: número debe ser positivo.\")\n",
    "        return []\n",
    "\n",
    "print(multiplos(3))\n",
    "print(multiplos(0))"
   ]
  },
  {
   "cell_type": "markdown",
   "id": "9f612353-4c60-46b1-8ed7-996aa19bc04b",
   "metadata": {},
   "source": [
    "7. Escribe una función que reciba una lista como parámetro y compruebe si la lista tiene duplicados. La función devolverá *True* si la lista tiene duplicados y *False* si no los tiene.\n"
   ]
  },
  {
   "cell_type": "code",
   "execution_count": 10,
   "id": "c79da22d-d0a6-481a-9656-b520de28fb2c",
   "metadata": {},
   "outputs": [
    {
     "name": "stdout",
     "output_type": "stream",
     "text": [
      "True\n",
      "False\n"
     ]
    }
   ],
   "source": [
    "def tiene_duplicados(lista):\n",
    "    return len(lista) != len(set(lista))\n",
    "\n",
    "print(tiene_duplicados([1, 2, 3, 2]))\n",
    "\n",
    "print(tiene_duplicados([1, 2, 3]))"
   ]
  },
  {
   "cell_type": "markdown",
   "id": "42900ced-2c58-4ae2-b653-6680ba2f1d86",
   "metadata": {},
   "source": [
    "8. Escribe una función *lambda* que, al igual que la función desarrollada en el ejercicio anterior, reciba una lista como parámetro y compruebe si la lista tiene duplicados. La función devolverá *True* si la lista tiene duplicados y *False* si no los tiene.\n"
   ]
  },
  {
   "cell_type": "code",
   "execution_count": 11,
   "id": "38e96b60-0753-4099-b6d6-5ae5abaa6f4a",
   "metadata": {},
   "outputs": [
    {
     "name": "stdout",
     "output_type": "stream",
     "text": [
      "True\n",
      "False\n"
     ]
    }
   ],
   "source": [
    "duplicados_lambda = lambda lista: len(lista) != len(set(lista))\n",
    "\n",
    "print(duplicados_lambda([1, 2, 3, 2]))\n",
    "print(duplicados_lambda([1, 2, 3]))"
   ]
  },
  {
   "cell_type": "markdown",
   "id": "176d0b36-2f27-4d9d-8ece-04e63e4d48c9",
   "metadata": {},
   "source": [
    "9. Escribe una función que compruebe si un string dado es un palíndromo. Un palíndromo es una secuencia de caracteres que se lee igual de izquierda a derecha que de derecha a izquierda. Por ejemplo, la función devolverá *True* si recibe el string \"reconocer\" y *False* si recibe el string \"python\"."
   ]
  },
  {
   "cell_type": "code",
   "execution_count": 12,
   "id": "bdd5bf44-6d85-46fc-abdd-dbe61381af2c",
   "metadata": {},
   "outputs": [
    {
     "name": "stdout",
     "output_type": "stream",
     "text": [
      "True\n",
      "False\n"
     ]
    }
   ],
   "source": [
    "def es_palindromo(s):\n",
    "    return s == s[::-1]\n",
    "\n",
    "print(es_palindromo(\"reconocer\"))\n",
    "print(es_palindromo(\"python\"))"
   ]
  },
  {
   "cell_type": "markdown",
   "id": "bc3c68b3-92ab-4032-8dcd-3c29874c1fe2",
   "metadata": {},
   "source": [
    "# Ejercicios - FILE"
   ]
  },
  {
   "cell_type": "markdown",
   "id": "6f49b35e-b10c-4553-b081-f9b4fb95f3b5",
   "metadata": {},
   "source": [
    "1. Escribe una función que reciba una ruta de un fichero de texto y una cadena de caracteres a buscar y determine si la cadena aparece en el fichero.\n"
   ]
  },
  {
   "cell_type": "code",
   "execution_count": 27,
   "id": "8008f149-5eb4-422c-8305-d9a25034bcf7",
   "metadata": {},
   "outputs": [
    {
     "name": "stdout",
     "output_type": "stream",
     "text": [
      "Error: fichero no encontrado.\n",
      "¿La palabra 'leche' está en el fichero?: False\n"
     ]
    }
   ],
   "source": [
    "def buscar_cadena(ruta, cadena):\n",
    "    try:\n",
    "        fichero = open(ruta, 'r', encoding='utf-8')\n",
    "        contenido = fichero.read()\n",
    "        fichero.close()\n",
    "        return cadena in contenido\n",
    "    except FileNotFoundError:\n",
    "        print(\"Error: fichero no encontrado.\")\n",
    "        return False\n",
    "\n",
    "resultado = buscar_cadena('res/lista_comprar.txt', 'leche')\n",
    "print(f\"¿La palabra 'leche' está en el fichero?: {resultado}\")\n"
   ]
  },
  {
   "cell_type": "markdown",
   "id": "d0a6b629-a783-4f15-a48b-b16f8b65d9fc",
   "metadata": {},
   "source": [
    "2. Escribe una función que reciba una lista, una ruta destino y un número *n*. La función debe crear un fichero en la ruta especificada. El contenido del fichero serán los primeros *n* elementos de la lista. La función debe controlar de manera apropiada los posibles valores de *n* que estén fuera de rango.\n"
   ]
  },
  {
   "cell_type": "code",
   "execution_count": 25,
   "id": "962c4b98-4388-4ff0-9998-b93f29520024",
   "metadata": {},
   "outputs": [
    {
     "name": "stdout",
     "output_type": "stream",
     "text": [
      "Se escribieron 3 elementos en res/FicheroParaEscritura.txt\n"
     ]
    }
   ],
   "source": [
    "def escribir_n_elementos(lista, ruta, n):\n",
    "    if n < 0 or n > len(lista):\n",
    "        print(\"Error: n fuera de rango.\")\n",
    "        return\n",
    "    \n",
    "    fichero = open(ruta, 'w', encoding='utf-8')\n",
    "    for i in range(n):\n",
    "        fichero.write(str(lista[i]) + '\\n')\n",
    "    fichero.close()\n",
    "    print(f\"Se escribieron {n} elementos en {ruta}\")\n",
    "\n",
    "elementos = [\"manzana\", \"pera\", \"banana\", \"uva\", \"melon\"]\n",
    "escribir_n_elementos(elementos, 'res/FicheroParaEscritura.txt', 3)\n"
   ]
  },
  {
   "cell_type": "markdown",
   "id": "e84cf4c3-feee-4d32-88dd-88d464dde745",
   "metadata": {},
   "source": [
    "3. Escribe una función que reciba una ruta de un fichero de texto devuelva un diccionario con la frecuencia de aparición de cada palabra. Ejemplo: un fichero que contenga la frase 'es mejor que venga que que no venga' devolverá el siguiente diccionario: {'es' : 1, 'mejor' : 1, 'que' : 3, 'venga' : 2, 'no' : 1}. Para dividir un string en palabras puedes hacer uso del método *split*."
   ]
  },
  {
   "cell_type": "code",
   "execution_count": 26,
   "id": "f6d1d062-d831-453d-ab0c-12741e2408f3",
   "metadata": {},
   "outputs": [
    {
     "name": "stdout",
     "output_type": "stream",
     "text": [
      "Error: el fichero no existe.\n",
      "Frecuencia de palabras: {}\n"
     ]
    }
   ],
   "source": [
    "import os\n",
    "\n",
    "def frecuencia_palabras(ruta):\n",
    "    frec = {}\n",
    "    try:\n",
    "        with open(ruta, 'rt', encoding='utf-8') as fichero:\n",
    "            texto = fichero.read()\n",
    "        palabras = texto.split()\n",
    "        for palabra in palabras:\n",
    "            frec[palabra] = frec.get(palabra, 0) + 1\n",
    "        return frec\n",
    "    except FileNotFoundError:\n",
    "        print(\"Error: el fichero no existe.\")\n",
    "        return {}\n",
    "\n",
    "# Uso real\n",
    "ruta = os.path.join(\"res\", \"lista_comprar.txt\")\n",
    "resultado = frecuencia_palabras(ruta)\n",
    "print(f\"Frecuencia de palabras: {resultado}\")\n"
   ]
  },
  {
   "cell_type": "code",
   "execution_count": null,
   "id": "7a607be6-8cb5-4afc-bca7-82e3b07aced4",
   "metadata": {},
   "outputs": [],
   "source": []
  }
 ],
 "metadata": {
  "kernelspec": {
   "display_name": "Python [conda env:MaquineLearning] *",
   "language": "python",
   "name": "conda-env-MaquineLearning-py"
  },
  "language_info": {
   "codemirror_mode": {
    "name": "ipython",
    "version": 3
   },
   "file_extension": ".py",
   "mimetype": "text/x-python",
   "name": "python",
   "nbconvert_exporter": "python",
   "pygments_lexer": "ipython3",
   "version": "3.13.5"
  }
 },
 "nbformat": 4,
 "nbformat_minor": 5
}
