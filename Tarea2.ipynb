{
 "cells": [
  {
   "cell_type": "markdown",
   "id": "792dd0e2-551b-4bee-bd7a-cb50cf66b339",
   "metadata": {},
   "source": [
    "<img src=\"img/Logo.png\" width=\"100\"/>\n",
    "\n",
    "![logo](img/Recurso-6.png)\n",
    "\n",
    "### ***Cargo:*** Docente Especialista\n",
    "### ***Nombre:*** Ing. Elvis Pachacama\n",
    "### ***Asignatura:*** Machine E-Learning\n",
    "### ***Carrera:*** Desarrollo de Software &nbsp;&nbsp;&nbsp;&nbsp;&nbsp;&nbsp;&nbsp; ***Nivel:*** Cuarto Nivel\n",
    "### ***Estudiante:*** Rueda Gaona Félix <br>\n",
    "\n",
    "# Tarea 2 - Ejercicios <br>\n"
   ]
  },
  {
   "cell_type": "markdown",
   "id": "6d327544-ac33-4ba3-8028-a1e7175ed0f5",
   "metadata": {},
   "source": [
    "1. Escribe un programa que calcule la suma de todos los elementos de una *lista* dada. La lista sólo puede contener elementos numéricos.\n"
   ]
  },
  {
   "cell_type": "code",
   "execution_count": 30,
   "id": "5a5332f1-8607-405c-b35b-c4757ebf11ef",
   "metadata": {},
   "outputs": [
    {
     "name": "stdout",
     "output_type": "stream",
     "text": [
      "La suma de la lista es de: 52\n"
     ]
    }
   ],
   "source": [
    "lista = [1, 31, 4, 9, 7]\n",
    "suma = sum(lista)\n",
    "print(\"La suma de la lista es de:\", suma)"
   ]
  },
  {
   "cell_type": "markdown",
   "id": "4f0c360f-d29e-431c-b651-70d18831a5db",
   "metadata": {},
   "source": [
    "2. Dada una lista con elementos duplicados, escribir un programa que muestre una nueva lista con el mismo contenido que la primera pero sin elementos duplicados. Para este ejercicio, no puedes hacer uso de objetos de tipo 'Set'. \n"
   ]
  },
  {
   "cell_type": "code",
   "execution_count": 32,
   "id": "373b4a95-a88c-4293-a9f4-e5726ace4d20",
   "metadata": {},
   "outputs": [
    {
     "name": "stdout",
     "output_type": "stream",
     "text": [
      "Lista sin duplicados: [1, 2, 3, 4, 5]\n"
     ]
    }
   ],
   "source": [
    "lista = [1, 2, 2, 3, 3, 2, 4, 5]\n",
    "sin_duplicados = []\n",
    "for elemento in lista:\n",
    "    if elemento not in sin_duplicados:\n",
    "        sin_duplicados.append(elemento)\n",
    "print(\"Lista sin duplicados:\", sin_duplicados)"
   ]
  },
  {
   "cell_type": "markdown",
   "id": "0df1a1ab-cb1e-4e5f-8225-94be50e1393d",
   "metadata": {},
   "source": [
    "3. Escribe un programa que construya un diccionario que contenga un número (entre 1 y *n*) de elementos de esta forma: (x, x*x). Ejemplo: para n = 5, el diccionario resultante sería {1: 1, 2: 4, 3: 9, 4: 16, 5: 25}\n"
   ]
  },
  {
   "cell_type": "code",
   "execution_count": 33,
   "id": "0bf095f1-0db2-4d41-9706-7ac3c42fe9c5",
   "metadata": {},
   "outputs": [
    {
     "name": "stdout",
     "output_type": "stream",
     "text": [
      "Diccionario: {1: 1, 2: 4, 3: 9, 4: 16, 5: 25}\n"
     ]
    }
   ],
   "source": [
    "n = 5\n",
    "diccionario = {x: x*x for x in range(1, n+1)}\n",
    "print(\"Diccionario:\", diccionario)"
   ]
  },
  {
   "cell_type": "markdown",
   "id": "bee33d1f-c4d7-4b72-b908-a6325a3b486c",
   "metadata": {},
   "source": [
    "4. Escribe un programa que, dada una lista de palabras, compruebe si alguna empieza por 'a' y tiene más de 9 caracteres. Si dicha palabra existe, el programa deberá terminar en el momento exacto de encontrarla. El programa también debe mostrar un mensaje apropiado por pantalla que indique el éxito o el fracaso de la búsqueda. En caso de éxito, también se mostrará por pantalla la palabra encontrada."
   ]
  },
  {
   "cell_type": "code",
   "execution_count": 34,
   "id": "5f55ede7-78bd-4451-bffd-ccc1588b4b7b",
   "metadata": {},
   "outputs": [
    {
     "name": "stdout",
     "output_type": "stream",
     "text": [
      "Encontrada: abominablemente\n"
     ]
    }
   ],
   "source": [
    "palabras = ['amplitud', 'abominablemente', 'antena']\n",
    "encontrada = False\n",
    "for p in palabras:\n",
    "    if p.startswith('a') and len(p) > 9:\n",
    "        print(f\"Encontrada: {p}\")\n",
    "        encontrada = True\n",
    "        break\n",
    "if not encontrada:\n",
    "    print(\"No se encontró palabra que cumpla la condición indicada.\")"
   ]
  },
  {
   "cell_type": "markdown",
   "id": "26a2254c-6de3-44bc-8941-bf681ef9365a",
   "metadata": {},
   "source": [
    "5. Dada una lista *L* de números positivos, escribir un programa que muestre otra lista (ordenada) que contenga todo índice *i* que cumpla la siguiente condición: *L[i]* es múltiplo de 3. Por ejemplo, dada la lista *L* = [3,5,13,12,1,9] el programa mostrará la lista [0,3,5] dado que *L[0], L[3] y L[5]* son, respectivamente, 3, 12 y 9, que son los únicos múltiplos de 3 que hay en *L*.\n"
   ]
  },
  {
   "cell_type": "code",
   "execution_count": 35,
   "id": "142b5533-6949-4e15-9063-7151815851d3",
   "metadata": {},
   "outputs": [
    {
     "name": "stdout",
     "output_type": "stream",
     "text": [
      "Índices: [0, 3, 5]\n"
     ]
    }
   ],
   "source": [
    "L = [3, 5, 13, 12, 1, 9]\n",
    "indices = [i for i, v in enumerate(L) if v % 3 == 0]\n",
    "print(\"Índices:\", sorted(indices))"
   ]
  },
  {
   "cell_type": "markdown",
   "id": "6b91f2d1-f34b-4342-8413-521f45c38db4",
   "metadata": {},
   "source": [
    "6. Dado un diccionario cuyos elementos son pares de tipo string y numérico (es decir, las claves son de tipo 'str' y los valores son de tipo 'int' o 'float'), escribe un programa que muestre por pantalla la clave cuyo valor asociado representa el valor númerico más alto de todo el diccionario. Por ejemplo, para el diccionario {'a': 4.3, 'b': 1, 'c': 7.8, 'd': -5} la respuesta sería 'c', dado que 7.8 es el valor más alto de los números 4.3, 1, 7.8 y -5.\n"
   ]
  },
  {
   "cell_type": "code",
   "execution_count": 38,
   "id": "d446f28e-dc85-43af-bdcd-da656e4a5a44",
   "metadata": {},
   "outputs": [
    {
     "name": "stdout",
     "output_type": "stream",
     "text": [
      "Clave con el mayor valor es la: c\n"
     ]
    }
   ],
   "source": [
    "d = {'a': 4.3, 'b': 1, 'c': 7.8, 'd': -5}\n",
    "clave_max = max(d, key=d.get)\n",
    "print(\"Clave con el mayor valor es la:\", clave_max)"
   ]
  },
  {
   "cell_type": "markdown",
   "id": "c6dad653-a0e1-4e56-b726-90ebdcac7074",
   "metadata": {},
   "source": [
    "7. Dada la lista *a* = [2, 4, 6, 8] y la lista *b* = [7, 11, 15, 22], escribe un programa que itere las listas *a* y *b* y multiplique cada elemento de *a* que sea mayor que 5 por cada elemento de *b* que sea menor que 14. El programa debe mostrar los resultados por pantalla.\n"
   ]
  },
  {
   "cell_type": "code",
   "execution_count": 41,
   "id": "68ab6f32-2f8e-4a57-9642-9d380312031d",
   "metadata": {},
   "outputs": [
    {
     "name": "stdout",
     "output_type": "stream",
     "text": [
      "6 * 7 = 42\n",
      "6 * 11 = 66\n",
      "8 * 7 = 56\n",
      "8 * 11 = 88\n"
     ]
    }
   ],
   "source": [
    "a = [2, 4, 6, 8]\n",
    "b = [7, 11, 15, 22]\n",
    "for num_a in a:\n",
    "    if num_a > 5:\n",
    "        for num_b in b:\n",
    "            if num_b < 14:\n",
    "                print(f\"{num_a} * {num_b} = {num_a * num_b}\")"
   ]
  },
  {
   "cell_type": "markdown",
   "id": "39eed7e5-9211-4952-9660-5f9eb00f972a",
   "metadata": {},
   "source": [
    "8. Escribir un programa que pida un valor numérico X al usuario. Para ello podéis hacer uso de la función predefinida 'input'. El programa deberá mostrar por pantalla el resultado de la división 10/X. En caso de que el usuario introduzca valores no apropiados, el programa deberá gestionar correctamente las excepciones, por ejemplo, mostrando mensajes informativos por pantalla.\n"
   ]
  },
  {
   "cell_type": "code",
   "execution_count": 42,
   "id": "841182eb-6aab-4c84-9665-682449bd9c6f",
   "metadata": {},
   "outputs": [
    {
     "name": "stdin",
     "output_type": "stream",
     "text": [
      "Introduce un número:  7\n"
     ]
    },
    {
     "name": "stdout",
     "output_type": "stream",
     "text": [
      "10/X = 1.4285714285714286\n"
     ]
    }
   ],
   "source": [
    "try:\n",
    "    x = float(input(\"Introduce un número: \"))\n",
    "    print(\"10/X =\", 10/x)\n",
    "except ZeroDivisionError:\n",
    "    print(\"Error: No se puede dividir entre 0.\")\n",
    "except ValueError:\n",
    "    print(\"Error: Entrada no numérica.\")"
   ]
  },
  {
   "cell_type": "markdown",
   "id": "f480fe6a-bbff-47bb-9292-9497058b5915",
   "metadata": {},
   "source": [
    "9. Escribir un programa que cree un *diccionario* cualquiera. Posteriormente, el programa pedirá al usuario (a través de la función predefinida 'input') que introduzca una clave del diccionario. Si la clave introducida es correcta (es decir, existe en el diccionario), el programa mostrará por pantalla el valor asociado a dicha clave. En caso de que la clave no exista, el programa gestionará de manera apropiada el error, por ejemplo, mostrando un mensaje informativo al usuario.\n"
   ]
  },
  {
   "cell_type": "code",
   "execution_count": 43,
   "id": "a16bdf6f-18f7-4e8e-9223-bf356a82856c",
   "metadata": {},
   "outputs": [
    {
     "name": "stdin",
     "output_type": "stream",
     "text": [
      "Introduce una clave:  dos\n"
     ]
    },
    {
     "name": "stdout",
     "output_type": "stream",
     "text": [
      "Valor: 2\n"
     ]
    }
   ],
   "source": [
    "diccionario = {'uno': 1, 'dos': 2, 'tres': 3}\n",
    "clave = input(\"Introduce una clave: \")\n",
    "try:\n",
    "    print(\"Valor:\", diccionario[clave])\n",
    "except KeyError:\n",
    "    print(\"Error: Clave no encontrada.\")"
   ]
  },
  {
   "cell_type": "markdown",
   "id": "c8bec05e-9611-42ba-a2a8-12ef6823bacf",
   "metadata": {},
   "source": [
    "10. Escribe una *list comprehension* que construya una lista con los números *enteros* positivos de una lista de números dada. La lista original puede incluir números de tipo *float*, los cuales deben ser descartados.\n"
   ]
  },
  {
   "cell_type": "code",
   "execution_count": 44,
   "id": "db31508d-6c78-4d1e-9b44-63c625f14480",
   "metadata": {},
   "outputs": [
    {
     "name": "stdout",
     "output_type": "stream",
     "text": [
      "Enteros positivos: [1, 4, 7]\n"
     ]
    }
   ],
   "source": [
    "numeros = [1, -2, 3.5, 4, 0, 5.0, 7]\n",
    "enteros_positivos = [n for n in numeros if isinstance(n, int) and n > 0]\n",
    "print(\"Enteros positivos:\", enteros_positivos)"
   ]
  },
  {
   "cell_type": "markdown",
   "id": "b7533b30-869b-4354-a3ff-059c2b030e13",
   "metadata": {},
   "source": [
    "11. Escribe una *set comprehension* que, dada una palabra, construya un conjunto que contenga las vocales de dicha palabra.\n"
   ]
  },
  {
   "cell_type": "code",
   "execution_count": 45,
   "id": "1a0c7ad6-e721-4632-b837-3fff6cebd979",
   "metadata": {},
   "outputs": [
    {
     "name": "stdout",
     "output_type": "stream",
     "text": [
      "Vocales en la palabra: {'o', 'a', 'u'}\n"
     ]
    }
   ],
   "source": [
    "palabra = \"computadora\"\n",
    "vocales = {c for c in palabra if c in 'aeiou'}\n",
    "print(\"Vocales en la palabra:\", vocales)"
   ]
  },
  {
   "cell_type": "markdown",
   "id": "ba590232-5bd1-4198-8968-cb32d60eb086",
   "metadata": {},
   "source": [
    "12. Escribe una *list comprehension* que construya una lista con todos los números del 0 al 50 que contengan el dígito 3. El resultado será: [3, 13, 23, 30, 31, 32, 33, 34, 35, 36, 37, 38, 39, 43].\n"
   ]
  },
  {
   "cell_type": "code",
   "execution_count": 46,
   "id": "93352425-d2a2-4c4c-9895-b97ee88a1507",
   "metadata": {},
   "outputs": [
    {
     "name": "stdout",
     "output_type": "stream",
     "text": [
      "Números con 3: [3, 13, 23, 30, 31, 32, 33, 34, 35, 36, 37, 38, 39, 43]\n"
     ]
    }
   ],
   "source": [
    "con_tres = [n for n in range(51) if '3' in str(n)]\n",
    "print(\"Números con 3:\", con_tres)"
   ]
  },
  {
   "cell_type": "markdown",
   "id": "047c845d-1037-49a5-865a-1504e15a99bb",
   "metadata": {},
   "source": [
    "13. Escribe una *dictionary comprehension* que construya un diccionario que incluya los tamaños de cada palabra en una frase dada. Ejemplo: el resultado para la frase \"Soy un ser humano\" será {'Soy': 3, 'un': 2, 'ser': 3, 'humano': 6}\n"
   ]
  },
  {
   "cell_type": "code",
   "execution_count": 48,
   "id": "84c72dfb-317b-40a0-870d-b1c2ff08e6da",
   "metadata": {},
   "outputs": [
    {
     "name": "stdout",
     "output_type": "stream",
     "text": [
      "Tamaños: {'Soy': 3, 'un': 2, 'Desarrollador': 13, 'de': 2, 'Software': 8}\n"
     ]
    }
   ],
   "source": [
    "frase = \"Soy un Desarrollador de Software\"\n",
    "tamaños = {p: len(p) for p in frase.split()}\n",
    "print(\"Tamaños:\", tamaños)"
   ]
  },
  {
   "cell_type": "markdown",
   "id": "a3f03952-e68b-4535-86e5-5b4af707c648",
   "metadata": {},
   "source": [
    "14. Escribe una *list comprehension* que construya una lista que incluya todos los números del 1 al 10 en orden. La primera mitad se mostrarán en formato numérico; la segunda mitad en texto. Es decir, el resultado será: [1, 2, 3, 4, 5, 'seis', 'siete', 'ocho', 'nueve', 'diez']."
   ]
  },
  {
   "cell_type": "code",
   "execution_count": 49,
   "id": "96be45ee-d893-4ab9-ab4e-e42267f0e718",
   "metadata": {},
   "outputs": [
    {
     "name": "stdout",
     "output_type": "stream",
     "text": [
      "Lista: [1, 2, 3, 4, 5, 'seis', 'siete', 'ocho', 'nueve', 'diez']\n"
     ]
    },
    {
     "data": {
      "text/plain": [
       "[1, 2, 3, 4, 5, 'seis', 'siete', 'ocho', 'nueve', 'diez']"
      ]
     },
     "execution_count": 49,
     "metadata": {},
     "output_type": "execute_result"
    }
   ],
   "source": [
    "nums = [1, 2, 3, 4, 5]\n",
    "textos = ['seis', 'siete', 'ocho', 'nueve', 'diez']\n",
    "resultado = [*nums, *textos]\n",
    "print(\"Lista:\", resultado)\n",
    "\n",
    "numero_palabra = {6: \"seis\", 7: \"siete\", 8: \"ocho\", 9: \"nueve\", 10: \"diez\"}\n",
    "[numero if numero <= 5 else numero_palabra[numero] for numero in range(1,11)]"
   ]
  },
  {
   "cell_type": "code",
   "execution_count": null,
   "id": "7919d50e-a733-4bf2-887e-f147a7f4626d",
   "metadata": {},
   "outputs": [],
   "source": []
  }
 ],
 "metadata": {
  "kernelspec": {
   "display_name": "Python [conda env:MaquineLearning] *",
   "language": "python",
   "name": "conda-env-MaquineLearning-py"
  },
  "language_info": {
   "codemirror_mode": {
    "name": "ipython",
    "version": 3
   },
   "file_extension": ".py",
   "mimetype": "text/x-python",
   "name": "python",
   "nbconvert_exporter": "python",
   "pygments_lexer": "ipython3",
   "version": "3.13.5"
  }
 },
 "nbformat": 4,
 "nbformat_minor": 5
}
