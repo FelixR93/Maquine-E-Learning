{
 "cells": [
  {
   "cell_type": "markdown",
   "id": "820ec7f5-64ee-460b-b1ed-98307958539f",
   "metadata": {},
   "source": [
    "1. Escribe un programa que muestre por pantalla la concatenación de un número y una cadena de caracteres. Para obtener esta concatenación puedes usar uno de los operadores explicados en este tema. Ejemplo: dado el número 3 y la cadena 'abc', el programa mostrará la cadena '3abc'.\n"
   ]
  },
  {
   "cell_type": "code",
   "execution_count": 1,
   "id": "f92f88b1-481e-4cd2-8148-085ad4a6ccba",
   "metadata": {},
   "outputs": [
    {
     "name": "stdout",
     "output_type": "stream",
     "text": [
      "3abc\n"
     ]
    }
   ],
   "source": [
    "n = 3\n",
    "s = 'abc'\n",
    "print(str(n) + s)"
   ]
  },
  {
   "cell_type": "markdown",
   "id": "23bae157-f44a-4b3c-8213-2c6e65861f32",
   "metadata": {},
   "source": [
    "2. Escribe un programa que muestre por pantalla un valor booleano que indique si un número entero *N* está contenido en un intervalo semiabierto *[a,b)*, el cual establece una cota inferior *a* (inclusive) y una cota superior *b* (exclusive) para *N*.\n"
   ]
  },
  {
   "cell_type": "code",
   "execution_count": 2,
   "id": "1a2264cb-e92c-4481-adaf-d0dd040c1635",
   "metadata": {},
   "outputs": [
    {
     "name": "stdout",
     "output_type": "stream",
     "text": [
      "True\n"
     ]
    }
   ],
   "source": [
    "N, a, b = 5, 3, 10\n",
    "print(a <= N < b)"
   ]
  },
  {
   "cell_type": "markdown",
   "id": "e6b57b13-fcd4-46c3-bcec-69eb3dbfdbaf",
   "metadata": {},
   "source": [
    "3. Escribe un programa que, dado dos strings *S1* y *S2* y dos números enteros *N1* y *N2*, determine si el substring que en *S1* se extiende desde la posición *N1* a la *N2* (ambos inclusive) está contenido en *S2*."
   ]
  },
  {
   "cell_type": "code",
   "execution_count": 3,
   "id": "d3fc51eb-e204-41be-8d67-f0bbb991a792",
   "metadata": {},
   "outputs": [
    {
     "name": "stdout",
     "output_type": "stream",
     "text": [
      "True\n"
     ]
    }
   ],
   "source": [
    "S1, S2, N1, N2 = 'abcdef', 'cde', 2, 4\n",
    "substr = S1[N1:N2+1]\n",
    "print(substr in S2)"
   ]
  },
  {
   "cell_type": "markdown",
   "id": "02dfa920-d23a-4052-9b33-cf3ed6535e6d",
   "metadata": {},
   "source": [
    "4. Dada una *lista* con elementos duplicados, escribir un programa que muestre una nueva *lista* con el mismo contenido que la primera pero sin elementos duplicados.\n"
   ]
  },
  {
   "cell_type": "code",
   "execution_count": 2,
   "id": "ac8d1d54-c154-44b1-84aa-1c1dd43c9db4",
   "metadata": {},
   "outputs": [
    {
     "name": "stdout",
     "output_type": "stream",
     "text": [
      "[1, 2, 3]\n"
     ]
    }
   ],
   "source": [
    "L = [1, 2, 2, 3, 1]\n",
    "print(list(set(L)))\n",
    "#res = []\n",
    "#for x in L:\n",
    " #   if x not in res:\n",
    "  #      res.append(x)\n",
    "#print(res)"
   ]
  },
  {
   "cell_type": "markdown",
   "id": "efbab204-4bdd-46ae-b3a1-09a1485137fd",
   "metadata": {},
   "source": [
    "5. Escribe un programa que, dada una *lista* de strings *L*, un string *s* perteneciente a *L* y un string *t*, reemplace *s* por *t* en *L*. El programa debe mostrar la lista resultante por pantalla.\n"
   ]
  },
  {
   "cell_type": "code",
   "execution_count": 5,
   "id": "72767da0-05ff-4a16-ab1e-bfb209fe92f2",
   "metadata": {},
   "outputs": [
    {
     "name": "stdout",
     "output_type": "stream",
     "text": [
      "['z', 'b', 'z']\n"
     ]
    }
   ],
   "source": [
    "L, s, t = ['a', 'b', 'a'], 'a', 'z'\n",
    "L = [t if x == s else x for x in L]\n",
    "print(L)"
   ]
  },
  {
   "cell_type": "markdown",
   "id": "73306d1c-4be3-44d9-b4cb-aa1bad1ec749",
   "metadata": {},
   "source": [
    "6. Escribe un programa que defina una *tupla* con elementos numéricos, reemplace el valor del último por un valor diferente y muestre la *tupla* por pantalla. Recuerda que las *tuplas* son inmutables. Tendrás que usar objetos intermedios.\n"
   ]
  },
  {
   "cell_type": "code",
   "execution_count": 8,
   "id": "c5b60660-6094-4813-a534-b22ea3ce526b",
   "metadata": {},
   "outputs": [
    {
     "name": "stdout",
     "output_type": "stream",
     "text": [
      "(1, 2, 3, 99)\n"
     ]
    }
   ],
   "source": [
    "t = (1, 2, 3, 4)\n",
    "t = t[:-1] + (99,)\n",
    "print(t)"
   ]
  },
  {
   "cell_type": "markdown",
   "id": "267c6c3b-0262-48c7-b977-7206f57b8e10",
   "metadata": {},
   "source": [
    "7. Dada la lista [1,2,3,4,5,6,7,8] escribe un programa que, a partir de esta lista, obtenga la lista [8,6,4,2] y la muestre por pantalla.\n"
   ]
  },
  {
   "cell_type": "code",
   "execution_count": 9,
   "id": "c73718c4-40d1-45d6-9a15-dc85ec063686",
   "metadata": {},
   "outputs": [
    {
     "name": "stdout",
     "output_type": "stream",
     "text": [
      "[8, 6, 4, 2]\n"
     ]
    }
   ],
   "source": [
    "L = [1,2,3,4,5,6,7,8]\n",
    "\n",
    "print(L[-1::-2])\n",
    "#res = L[::-1][::2]\n",
    "#print(res)\n"
   ]
  },
  {
   "cell_type": "markdown",
   "id": "b5efc369-3645-4247-9917-17d6a2c49ab4",
   "metadata": {},
   "source": [
    "8. Escribe un programa que, dada una tupla y un índice válido *i*, elimine el elemento de la tupla que se encuentra en la posición *i*. Para este ejercicio sólo puedes usar objetos de tipo tupla. No puedes convetir la *tupla* a una *lista*, por ejemplo.\n"
   ]
  },
  {
   "cell_type": "code",
   "execution_count": 10,
   "id": "fcf4a419-eb7b-48e8-8e14-78033d0759be",
   "metadata": {},
   "outputs": [
    {
     "name": "stdout",
     "output_type": "stream",
     "text": [
      "('a', 'b', 'd', 'e', 'f')\n"
     ]
    }
   ],
   "source": [
    "t, i = ('a', 'b', 'c', 'd', 'e', 'f'), 2\n",
    "t = t[:i] + t[i+1:]\n",
    "print(t)\n"
   ]
  },
  {
   "cell_type": "markdown",
   "id": "d0771dc0-55e4-4b3b-988c-990c349fa1ea",
   "metadata": {},
   "source": [
    "9. Escribe un programa que obtenga la mediana de una *lista* de números. Recuerda que la mediana *M* de una lista de números *L* es el número que cumple la siguiente propiedad: la mitad de los números de *L* son superiores a *M* y la otra mitad son inferiores. Cuando el número de elementos de *L* es par, se puede considerar que hay dos medianas. No obstante, en este ejercicio consideraremos que únicamente existe una mediana."
   ]
  },
  {
   "cell_type": "code",
   "execution_count": 14,
   "id": "ac590f98-7f0a-4905-b826-17ca5b565385",
   "metadata": {},
   "outputs": [
    {
     "name": "stdout",
     "output_type": "stream",
     "text": [
      "[1, 3, 5.5, 9, 15, 19, 21]\n",
      "9\n"
     ]
    }
   ],
   "source": [
    "L = [21, 9, 1, 5.5, 19, 3, 15]\n",
    "L.sort()\n",
    "print(L)\n",
    "mediana = L[len(L)//2]\n",
    "print(mediana)\n"
   ]
  },
  {
   "cell_type": "code",
   "execution_count": null,
   "id": "4e735588-749b-4eb2-9c6b-7904f5827976",
   "metadata": {},
   "outputs": [],
   "source": []
  }
 ],
 "metadata": {
  "kernelspec": {
   "display_name": "Python [conda env:base]",
   "language": "python",
   "name": "conda-base-py"
  },
  "language_info": {
   "codemirror_mode": {
    "name": "ipython",
    "version": 3
   },
   "file_extension": ".py",
   "mimetype": "text/x-python",
   "name": "python",
   "nbconvert_exporter": "python",
   "pygments_lexer": "ipython3",
   "version": "3.13.5"
  }
 },
 "nbformat": 4,
 "nbformat_minor": 5
}
